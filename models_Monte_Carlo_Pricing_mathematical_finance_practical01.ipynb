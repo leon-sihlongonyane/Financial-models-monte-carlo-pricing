{
  "nbformat": 4,
  "nbformat_minor": 0,
  "metadata": {
    "kernelspec": {
      "display_name": "Python64",
      "language": "python",
      "name": "python3"
    },
    "language_info": {
      "codemirror_mode": {
        "name": "ipython",
        "version": 3
      },
      "file_extension": ".py",
      "mimetype": "text/x-python",
      "name": "python",
      "nbconvert_exporter": "python",
      "pygments_lexer": "ipython3",
      "version": "3.6.2"
    },
    "colab": {
      "name": "Lecture2_Ex_models_Monte_Carlo_Pricing.ipynb",
      "provenance": []
    }
  },
  "cells": [
    {
      "cell_type": "markdown",
      "metadata": {
        "id": "B8Y8LJABc-bf"
      },
      "source": [
        "## Monte Carlo Methods"
      ]
    },
    {
      "cell_type": "markdown",
      "metadata": {
        "id": "f-wrfrZhc-bo"
      },
      "source": [
        "\\\n",
        "\\### Table of Contents: \n",
        "* [Calculate Pi by MC](#Calculate-Pi-by-MC)\n",
        "* [The Riemann Integral](#The-Riemann-Integral)\n",
        "* [Integrals by MC](#Integrals-by-MC)\n",
        "* [Black Scholes Formula for a European Call](#Black-Scholes-Formula-for-a-European-Call)\n",
        "* [Solution of the GBM Stochastic DE](#Solution-of-the-GBM-Stochastic-DE)\n",
        "* [Ornstein Uhlenbeck Equation (Mean Reverting)](#Ornstein-Uhlenbeck-Equation-Mean-Reverting)\n",
        "* [CIR Equation](#CIR-Equation)\n",
        "* [Estimating Volatility on Real Data](#Estimating-Volatility-on-Real-Data)\n",
        "* [Implied Volatility](#Implied-Volatility)"
      ]
    },
    {
      "cell_type": "code",
      "metadata": {
        "id": "D0-XZdY5c-br"
      },
      "source": [
        "import numpy as np\n",
        "import pandas as pd\n",
        "from pandas_datareader import data as web\n",
        "from matplotlib import pyplot as plt\n",
        "%matplotlib inline\n",
        "\n",
        "import warnings\n",
        "warnings.simplefilter('ignore')\n"
      ],
      "execution_count": null,
      "outputs": []
    },
    {
      "cell_type": "markdown",
      "metadata": {
        "id": "WdQ4zpDmc-b0"
      },
      "source": [
        "### Calculate Pi by MC"
      ]
    },
    {
      "cell_type": "code",
      "metadata": {
        "id": "r0ZUwugzc-b3"
      },
      "source": [
        "%%timeit\n",
        "#Using a loop\n",
        "N=1800000\n",
        "count=0\n",
        "points=np.random.uniform(-1,1,(N,2))\n",
        "for i in np.arange(N):\n",
        "    if points[i,0]**2+points[i,1]**2 <=1:\n",
        "        count+=1\n",
        "print(4*count/N)"
      ],
      "execution_count": null,
      "outputs": []
    },
    {
      "cell_type": "code",
      "metadata": {
        "id": "FQ12cIB-c-cC"
      },
      "source": [
        "%%timeit\n",
        "#Using  'where'\n",
        "N=18000000\n",
        "points=np.random.uniform(-1,1,(N,2))\n",
        "count=np.where(points[:,0]**2+points[:,1]**2<=1,1,0).sum()\n",
        "print(4*count/N)"
      ],
      "execution_count": null,
      "outputs": []
    },
    {
      "cell_type": "code",
      "metadata": {
        "scrolled": true,
        "id": "GnHMyi2Tc-cL"
      },
      "source": [
        "%%timeit\n",
        "#Vectorising\n",
        "N=1800000\n",
        "points=np.random.uniform(-1,1,(N,2))\n",
        "points=points[:,0]**2+points[:,1]**2\n",
        "points=points[points<=1]\n",
        "print(4*len(points)/N)"
      ],
      "execution_count": null,
      "outputs": []
    },
    {
      "cell_type": "code",
      "metadata": {
        "id": "uqYupLjac-cU"
      },
      "source": [
        "#### Time for above 3: 4 seconds, 1.5 seconds, 0.2seconds"
      ],
      "execution_count": null,
      "outputs": []
    },
    {
      "cell_type": "markdown",
      "metadata": {
        "id": "t9q0ADtIc-cc"
      },
      "source": [
        "### The Riemann Integral\n",
        "We split the interval  $[0,T]$  into  $N$  intervals, each of width  $Δt=T/N$,\n",
        "$0=t_0<t_1<⋯<t_i<⋯<t_N=T$. Note that there are $N+1$ points $t_i$. We define the Riemann Integral by\n",
        "$$\\int_0^T f(t)\\,dt=\\lim_{N\\to\\infty}\\sum_{i=0}^{N-1}f(t_i)\\Delta t$$\n",
        "Note that we could have also used a partition of varying $\\Delta t$ and $f(\\xi_i),t_i\\le\\xi_i\\le t_{i+1}$ \n",
        "but we will need this definition when we extend to stochastic integrals.\n",
        "\n",
        "We know from elementary calculus that $\\int_0^\\pi (2+\\cos t)\\,dt=[2t+\\sin\\ t]_0^\\pi=2\\pi+\\sin\\pi=2\\pi,\\ \\int_0^Tt^5\\,dt=\\frac16 T^6$.     \n",
        "We calculate straight from the definition."
      ]
    },
    {
      "cell_type": "code",
      "metadata": {
        "id": "0UKLT52Nc-ce",
        "outputId": "e9f545fb-5e88-4917-d58f-482e38159490",
        "colab": {
          "base_uri": "https://localhost:8080/",
          "height": 283
        }
      },
      "source": [
        "T=7;N=100\n",
        "t=np.linspace(-T,T,N)\n",
        "plt.plot(t,2+np.cos(t))\n",
        "plt.ylim([0,3.5])\n",
        "plt.title(r'Function $y=2+\\cos(t)$')\n",
        "plt.show()"
      ],
      "execution_count": null,
      "outputs": [
        {
          "output_type": "display_data",
          "data": {
            "image/png": "[encoded data removed]",
            "text/plain": [
              "<Figure size 432x288 with 1 Axes>"
            ]
          },
          "metadata": {
            "needs_background": "light"
          }
        }
      ]
    },
    {
      "cell_type": "code",
      "metadata": {
        "id": "rwiVzvevc-cm"
      },
      "source": [
        "%%timeit\n",
        "N=10000000\n",
        "T=np.pi\n",
        "dt=T/(N-1)\n",
        "\n",
        "t=np.linspace(0,T,N)\n",
        "\n",
        "Int=dt*np.sum(2+np.cos(t))\n",
        "\n",
        "print(Int)\n",
        "print(2*np.pi)"
      ],
      "execution_count": null,
      "outputs": []
    },
    {
      "cell_type": "code",
      "metadata": {
        "id": "DdjNJbbdc-cv"
      },
      "source": [
        "%%timeit\n",
        "N=10000000\n",
        "T=4\n",
        "dt=T/(N-1)\n",
        "\n",
        "t=np.linspace(0,T,N)\n",
        "\n",
        "Int=dt*np.sum(t**5)\n",
        "\n",
        "print(Int)\n",
        "print((1/6)*(T**6))"
      ],
      "execution_count": null,
      "outputs": []
    },
    {
      "cell_type": "code",
      "metadata": {
        "scrolled": true,
        "id": "UDNTAf2mc-c4"
      },
      "source": [
        ""
      ],
      "execution_count": null,
      "outputs": []
    },
    {
      "cell_type": "markdown",
      "metadata": {
        "id": "L7xhVyY8c-dJ"
      },
      "source": [
        "### Integrals by MC"
      ]
    },
    {
      "cell_type": "markdown",
      "metadata": {
        "id": "JQrTJK-_c-dM"
      },
      "source": [
        "For a random variable $X$ with density $p(x)dx$ for x in $[a,b]$ the expected value of $f(X)$\n",
        "(for some \"nice\" function f) is the integral\n",
        "$$E(f(X))=\\int_a^bf(x)p(x)\\,dx$$\n",
        "In the case of a uniform distribution \n",
        "$$p(x)dx= = \\frac1{b-a}dx$$\n",
        "So \n",
        "$$ \\int_a^bf(x)\\,dx= (b-a)E(f(X))$$\n",
        "Using the Law of Large Numbers, we have\n",
        "$$(b-a)E(f(X))=(b-a)\\lim_{n\\to\\infty}\\frac1n\\sum_{i=0}^{n-1}f(\\xi_i)= \\int_a^bf(x)\\,dx$$\n",
        "where the $\\xi_i$are draws from $n$ independent uniform variables (the limit is taken in the special sense that convergence takes place everyhere except for a set of events of probability 0 - it is valid also for any other probability distribution provided the rv's have finite expectation of their absolute values).\n",
        "This leads to the Monte Carlo method of evaluating integrals below. \n",
        "\n",
        "The variance of the estimate is easily calculated and is equal to $\\sigma^2_{f(X)}/n$. \n",
        "The standard error is $\\sigma_{f(X)}/\\sqrt{n}$.  \n",
        "An estimate for $σ_{f(X)}^2$ is $\\frac1{n − 1}\\sum_0^{n-1}(f(Ui) − \\hat I_f )^2$ where $\\hat I_f$ is the estimate of the integral.\n"
      ]
    },
    {
      "cell_type": "code",
      "metadata": {
        "scrolled": true,
        "id": "JZQ91SHWc-dO"
      },
      "source": [
        "%%timeit\n",
        "# Integral of sin(t) over [0,pi] is 2\n",
        "N=1000000\n",
        "lowlim=0\n",
        "uplim=np.pi\n",
        "f=np.sin\n",
        "points=np.random.uniform(0,np.pi,N)\n",
        "Int=((uplim-lowlim)/N)*(f(points)).sum()\n",
        "print(Int)"
      ],
      "execution_count": null,
      "outputs": []
    },
    {
      "cell_type": "markdown",
      "source": [
        "# BS Formula for a European Call"
      ],
      "metadata": {
        "id": "qaFJRpeAlqUL"
      }
    },
    {
      "cell_type": "markdown",
      "source": [
        "\\begin{align}\n",
        "d1&=\\frac{\\log\\frac{S_0}K + (r+\\frac12\\sigma^2)T}{\\sigma\\sqrt{T}}\\\\\n",
        "d2&=\\frac{\\log\\frac{S_0}K + (r-\\frac12\\sigma^2)T}{\\sigma\\sqrt{T}}\\\\\n",
        "CV&=S_0N(d1)-Ke^{-rT}N(d2)\n",
        "\\end{align}\n",
        "($N(x)$ is the Standard Normal Probability Density Function (pdf)).  \n",
        "**Note** that the price depends only on the valatility (stock-dependent) and all the rest of the parameters are either market parameters or chosen by the buyer/seller of the option."
      ],
      "metadata": {
        "id": "CKic5azVmMWQ"
      }
    },
    {
      "cell_type": "code",
      "metadata": {
        "id": "8PPkCWx_c-dT",
        "outputId": "70739ef3-dc7a-4b32-98cf-fa9932a4992f",
        "colab": {
          "base_uri": "https://localhost:8080/"
        }
      },
      "source": [
        "def bsm_call_val(S0, K, T, r, sigma):\n",
        "    ''' \n",
        "    Valuation of European call option in Black Scholes model\n",
        "    using the analytic formula.\n",
        "    \n",
        "    Parameters\n",
        "    ==========\n",
        "    S0 : float        initial stock/index level\n",
        "    K : float         strike price\n",
        "    T : float         maturity date (in year fractions)\n",
        "    r : float         constant risk-free short rate\n",
        "    sigma : float     volatility factor in diffusion term\n",
        "    \n",
        "    Returns\n",
        "    =======\n",
        "    value : float     present value of the European call option\n",
        "    '''\n",
        "    from scipy import stats\n",
        "    from math import log,sqrt,exp\n",
        "\n",
        "    S0 = float(S0)\n",
        "    d1 = (log(S0 / K) + (r + 0.5 * sigma ** 2) * T) / (sigma * sqrt(T))\n",
        "    d2 = (log(S0 / K) + (r - 0.5 * sigma ** 2) * T) / (sigma * sqrt(T))\n",
        "    value = (S0 * stats.norm.cdf(d1, 0.0, 1.0)\n",
        "            - K * exp(-r * T) * stats.norm.cdf(d2, 0.0, 1.0))\n",
        "            # stats.norm.cdf --> cumulative distribution function for the normal distribution\n",
        "    return value\n",
        "\n",
        "c=bsm_call_val(100,105,1,0.05,0.2)\n",
        "c"
      ],
      "execution_count": null,
      "outputs": [
        {
          "output_type": "execute_result",
          "data": {
            "text/plain": [
              "8.021352235143176"
            ]
          },
          "metadata": {},
          "execution_count": 9
        }
      ]
    },
    {
      "cell_type": "code",
      "source": [
        "def bsm_vega(S0,K, T, r,sigma):\n",
        "  from math import log,sqrt\n",
        "  from scipy import stats\n",
        "  S0=float(S0)\n",
        "  d1=log(S0/K) +(r+1/2 * sigma**2)*T/(sigma*sqrt(T))\n",
        "  vega=S0*stats.norm.cdf(d1,0.0,1.0)*sqrt(T)\n",
        "  return vega"
      ],
      "metadata": {
        "id": "vZAwgMfbxagA"
      },
      "execution_count": null,
      "outputs": []
    },
    {
      "cell_type": "code",
      "source": [
        "bsm_vega(100,105,1,0.05,0.2)"
      ],
      "metadata": {
        "colab": {
          "base_uri": "https://localhost:8080/"
        },
        "id": "Z70_HS5YkX7U",
        "outputId": "e503cb86-706c-4576-9ea9-b5553401eb8a"
      },
      "execution_count": null,
      "outputs": [
        {
          "output_type": "execute_result",
          "data": {
            "text/plain": [
              "61.8372754995278"
            ]
          },
          "metadata": {},
          "execution_count": 11
        }
      ]
    },
    {
      "cell_type": "code",
      "metadata": {
        "id": "eTRyhOLxc-df"
      },
      "source": [
        "import time as tm"
      ],
      "execution_count": null,
      "outputs": []
    },
    {
      "cell_type": "code",
      "metadata": {
        "scrolled": true,
        "id": "MREZG08Pc-dk"
      },
      "source": [
        "S0 = 100.\n",
        "K = 105.\n",
        "T = 1.0\n",
        "r = 0.05\n",
        "sigma = 0.2\n",
        "t0=tm.time()\n",
        "bsm_call_val(S0, K, T, r, sigma)\n",
        "t0=tm.time()-t0\n",
        "print('Time to run this code segment = %5.5f' % t0)"
      ],
      "execution_count": null,
      "outputs": []
    },
    {
      "cell_type": "markdown",
      "source": [
        "# Plotting Brownian Motions and GBM"
      ],
      "metadata": {
        "id": "ftvHpqQ0yHG1"
      }
    },
    {
      "cell_type": "code",
      "metadata": {
        "scrolled": true,
        "id": "OzaD5-7Qc-d3",
        "outputId": "b3b6b539-a53e-4c18-f8ed-02cd33d93cc7",
        "colab": {
          "base_uri": "https://localhost:8080/",
          "height": 295
        }
      },
      "source": [
        "N=1001\n",
        "T=1\n",
        "dt=1/(N-1)\n",
        "t=np.linspace(0,1,N)\n",
        "w=np.sqrt(dt)*np.random.randn(N)\n",
        "w=w.cumsum()\n",
        "plt.plot(t,w)\n",
        "plt.title('Brownian Motion on [0,1]')\n",
        "plt.xlabel('time')\n",
        "plt.ylabel('value')\n",
        "plt.show()"
      ],
      "execution_count": null,
      "outputs": [
        {
          "output_type": "display_data",
          "data": {
            "image/png": "[encoded data removed]",
            "text/plain": [
              "<Figure size 432x288 with 1 Axes>"
            ]
          },
          "metadata": {
            "needs_background": "light"
          }
        }
      ]
    },
    {
      "cell_type": "code",
      "source": [
        "import numpy as np\n",
        "S0 = 100.\n",
        "K = 105.\n",
        "T = 15.0\n",
        "r = 0.05\n",
        "sigma = 0.2\n",
        "\n",
        "I = 1000\n",
        "dt=T/(I+1)\n",
        "t=np.linspace(0,T,I)\n",
        "\n",
        "St=np.zeros(I)\n",
        "St[0]=S0\n",
        "z=np.random.randn(I)\n",
        "for i in range(1,1000):\n",
        "  St[i] = St[i-1] * np.exp((r-0.5*sigma**2) * dt + sigma * np.sqrt(dt) * z[i-1])\n",
        "plt.figure(figsize=(8,6))\n",
        "plt.plot(t,St)\n",
        "plt.title('GBM')\n",
        "plt.xlabel('Time')\n",
        "plt.ylabel('Value')\n"
      ],
      "metadata": {
        "colab": {
          "base_uri": "https://localhost:8080/",
          "height": 421
        },
        "id": "C7P51XuyztX_",
        "outputId": "0455fb2d-9f38-4e88-9c4a-0babcdaa0a80"
      },
      "execution_count": null,
      "outputs": [
        {
          "output_type": "execute_result",
          "data": {
            "text/plain": [
              "Text(0, 0.5, 'Value')"
            ]
          },
          "metadata": {},
          "execution_count": 16
        },
        {
          "output_type": "display_data",
          "data": {
            "image/png": "[encoded data removed]",
            "text/plain": [
              "<Figure size 576x432 with 1 Axes>"
            ]
          },
          "metadata": {
            "needs_background": "light"
          }
        }
      ]
    },
    {
      "cell_type": "markdown",
      "metadata": {
        "id": "A_gtO6b0c-d-"
      },
      "source": [
        "### Ornstein Uhlenbeck Equation Mean Reverting"
      ]
    },
    {
      "cell_type": "markdown",
      "metadata": {
        "id": "Y_5Ebmm3c-eA"
      },
      "source": [
        "$$dS_t=rS_tdt+\\sigma S_t dW_t$$\n",
        "\n",
        "This can also be written as\n",
        "$$\\frac{dS}S=r dt+\\sigma dW$$\n",
        "\n",
        "\n",
        "This equation is understood to be an integral equation:\n",
        "\n",
        "$$\\int_0^\\tau dS_t=\\int_0^\\tau rS_tdt+\\int_0^\\tau\\sigma S_t dW_t$$\n",
        "\n",
        "where $W_t$ is a stochastic variable called a Wiener Process or a Brownian Motion. There is an analytic solution:\n",
        "\n",
        "$$S(t)=S(0)e^{(r-\\frac12\\sigma^2)t+\\sigma W(t)}$$\n",
        "\n",
        "For each Brownian Motion path of shocks $W(t)$  we get a different solution path.\n",
        "\n",
        "**Note** The parameter $r$ in the $r\\,dt$ term represents interest rate. It is also the rate of growth of money left in a bank.\n",
        "The real expected rate of growth of the stock is, strangely, not present in pricing options. This comes out in the pricing theory of options and will be dealt with later. \n",
        "\n",
        "We discretise the equation for numerical solution using an Euler scheme and the fact that \n",
        "$W(t+\\Delta t)-W(t)=\\sqrt{\\Delta t}z$\n",
        "where z is a standard normal variable - we replace $df$ by $\\Delta f=f(t+\\Delta t)-f(t)$ in each term.\n",
        "\n",
        "\\begin{align}\n",
        "S[t+\\Delta t]-S[t]&= rS(t)\\Delta t + \\sigma S[t](W(t+\\Delta t)-W(t))\\\\\n",
        "S[t+\\Delta t]&=S[t](1+ r\\Delta t + \\sigma\\sqrt{\\Delta t}z)\n",
        "\\end{align}\n",
        "\n",
        "We split the interval $[0,T]$ into $N$ intervals, each of width $\\Delta t$ by inserting points $t_i,\\ 1\\le i\\le N$ \n",
        "denoted by $0=t_0<t_1<\\dots<t_i<\\dots <t_N=T$\n",
        "\n",
        "Set S[0]=S_0 and use the last equation to solve successively for $S[t_1],S[t_2],\\dots,S[t_N]=S[T]$, We need to draw an independent value from a standard normal distribution at each step to get $z$."
      ]
    },
    {
      "cell_type": "markdown",
      "metadata": {
        "id": "hxfxAkkGc-eN"
      },
      "source": [
        "\\begin{align}\n",
        "dr&=a(b-r)dt+\\sigma dW\\\\\n",
        "r(t+\\Delta t)&=r(t)+a(b-r(t))\\Delta t+\\sigma\\sqrt{\\Delta t}\\,z\n",
        "\\end{align}"
      ]
    },
    {
      "cell_type": "markdown",
      "source": [
        "**Note** With different parameters, there is a a fair probability that the rate will go negative, which has \n",
        "not been historically frequent. The CIR model below can avoid this."
      ],
      "metadata": {
        "id": "7eVToCULxfwS"
      }
    },
    {
      "cell_type": "markdown",
      "metadata": {
        "id": "_FZ7d415c-ef"
      },
      "source": [
        "### CIR Equation"
      ]
    },
    {
      "cell_type": "markdown",
      "metadata": {
        "id": "Pwnb5GtCc-eg"
      },
      "source": [
        "\\begin{align}\n",
        "dr&=a(b-r)dt+\\sigma\\sqrt{r}dW\\\\\n",
        "r(t+\\Delta t)&=r(t)+a(b-r(t))\\Delta t+\\sigma\\sqrt{r(t)}\\sqrt{\\Delta t}\\,z\n",
        "\\end{align}"
      ]
    },
    {
      "cell_type": "markdown",
      "metadata": {
        "id": "uLTicITCc-en"
      },
      "source": [
        "**Note** It can be shown that if $2ab>\\sigma^2$ the continuous solution does not go negative. Unfortunately, this need not hold \n",
        "for the discretised version used in numerical computation."
      ]
    },
    {
      "cell_type": "markdown",
      "metadata": {
        "id": "pwuvkBEOc-ep"
      },
      "source": [
        "### Estimating Volatility on Real Data"
      ]
    },
    {
      "cell_type": "code",
      "source": [
        "import pandas as pd\n",
        "import numpy as np"
      ],
      "metadata": {
        "id": "tk-OYQRHoCGC"
      },
      "execution_count": null,
      "outputs": []
    },
    {
      "cell_type": "code",
      "metadata": {
        "scrolled": true,
        "id": "q01Nzn1ic-es"
      },
      "source": [
        "goog1=pd.read_csv('/content/drive/MyDrive/AIMS_Course_March_2021+2022_FinMath_FINAL/FinMath2022_Complete/DATA/GOOG.csv')"
      ],
      "execution_count": null,
      "outputs": []
    },
    {
      "cell_type": "code",
      "metadata": {
        "id": "sM1qni6tc-ey",
        "outputId": "13ab1539-698d-4791-cc0f-1a33d2faf3ca",
        "colab": {
          "base_uri": "https://localhost:8080/",
          "height": 206
        }
      },
      "source": [
        "goog1.head()"
      ],
      "execution_count": null,
      "outputs": [
        {
          "output_type": "execute_result",
          "data": {
            "text/html": [
              "\n",
              "  <div id=\"df-7ced7d36-9352-462e-8ca7-ca062f4916cb\">\n",
              "    <div class=\"colab-df-container\">\n",
              "      <div>\n",
              "<style scoped>\n",
              "    .dataframe tbody tr th:only-of-type {\n",
              "        vertical-align: middle;\n",
              "    }\n",
              "\n",
              "    .dataframe tbody tr th {\n",
              "        vertical-align: top;\n",
              "    }\n",
              "\n",
              "    .dataframe thead th {\n",
              "        text-align: right;\n",
              "    }\n",
              "</style>\n",
              "<table border=\"1\" class=\"dataframe\">\n",
              "  <thead>\n",
              "    <tr style=\"text-align: right;\">\n",
              "      <th></th>\n",
              "      <th>Date</th>\n",
              "      <th>Open</th>\n",
              "      <th>High</th>\n",
              "      <th>Low</th>\n",
              "      <th>Close</th>\n",
              "      <th>Adj Close</th>\n",
              "      <th>Volume</th>\n",
              "    </tr>\n",
              "  </thead>\n",
              "  <tbody>\n",
              "    <tr>\n",
              "      <th>0</th>\n",
              "      <td>2006-01-09</td>\n",
              "      <td>231.698029</td>\n",
              "      <td>235.170441</td>\n",
              "      <td>228.980698</td>\n",
              "      <td>231.941452</td>\n",
              "      <td>231.941452</td>\n",
              "      <td>25750100</td>\n",
              "    </tr>\n",
              "    <tr>\n",
              "      <th>1</th>\n",
              "      <td>2006-01-10</td>\n",
              "      <td>230.709457</td>\n",
              "      <td>233.605621</td>\n",
              "      <td>229.527145</td>\n",
              "      <td>233.362198</td>\n",
              "      <td>233.362198</td>\n",
              "      <td>18312400</td>\n",
              "    </tr>\n",
              "    <tr>\n",
              "      <th>2</th>\n",
              "      <td>2006-01-11</td>\n",
              "      <td>234.112320</td>\n",
              "      <td>236.019913</td>\n",
              "      <td>233.074081</td>\n",
              "      <td>234.291168</td>\n",
              "      <td>234.291168</td>\n",
              "      <td>18131900</td>\n",
              "    </tr>\n",
              "    <tr>\n",
              "      <th>3</th>\n",
              "      <td>2006-01-12</td>\n",
              "      <td>235.329407</td>\n",
              "      <td>235.960312</td>\n",
              "      <td>229.258896</td>\n",
              "      <td>230.317017</td>\n",
              "      <td>230.317017</td>\n",
              "      <td>20382200</td>\n",
              "    </tr>\n",
              "    <tr>\n",
              "      <th>4</th>\n",
              "      <td>2006-01-13</td>\n",
              "      <td>230.654816</td>\n",
              "      <td>231.936478</td>\n",
              "      <td>229.313538</td>\n",
              "      <td>231.618546</td>\n",
              "      <td>231.618546</td>\n",
              "      <td>15412700</td>\n",
              "    </tr>\n",
              "  </tbody>\n",
              "</table>\n",
              "</div>\n",
              "      <button class=\"colab-df-convert\" onclick=\"convertToInteractive('df-7ced7d36-9352-462e-8ca7-ca062f4916cb')\"\n",
              "              title=\"Convert this dataframe to an interactive table.\"\n",
              "              style=\"display:none;\">\n",
              "        \n",
              "  <svg xmlns=\"http://www.w3.org/2000/svg\" height=\"24px\"viewBox=\"0 0 24 24\"\n",
              "       width=\"24px\">\n",
              "    <path d=\"M0 0h24v24H0V0z\" fill=\"none\"/>\n",
              "    <path d=\"M18.56 5.44l.94 2.06.94-2.06 2.06-.94-2.06-.94-.94-2.06-.94 2.06-2.06.94zm-11 1L8.5 8.5l.94-2.06 2.06-.94-2.06-.94L8.5 2.5l-.94 2.06-2.06.94zm10 10l.94 2.06.94-2.06 2.06-.94-2.06-.94-.94-2.06-.94 2.06-2.06.94z\"/><path d=\"M17.41 7.96l-1.37-1.37c-.4-.4-.92-.59-1.43-.59-.52 0-1.04.2-1.43.59L10.3 9.45l-7.72 7.72c-.78.78-.78 2.05 0 2.83L4 21.41c.39.39.9.59 1.41.59.51 0 1.02-.2 1.41-.59l7.78-7.78 2.81-2.81c.8-.78.8-2.07 0-2.86zM5.41 20L4 18.59l7.72-7.72 1.47 1.35L5.41 20z\"/>\n",
              "  </svg>\n",
              "      </button>\n",
              "      \n",
              "  <style>\n",
              "    .colab-df-container {\n",
              "      display:flex;\n",
              "      flex-wrap:wrap;\n",
              "      gap: 12px;\n",
              "    }\n",
              "\n",
              "    .colab-df-convert {\n",
              "      background-color: #E8F0FE;\n",
              "      border: none;\n",
              "      border-radius: 50%;\n",
              "      cursor: pointer;\n",
              "      display: none;\n",
              "      fill: #1967D2;\n",
              "      height: 32px;\n",
              "      padding: 0 0 0 0;\n",
              "      width: 32px;\n",
              "    }\n",
              "\n",
              "    .colab-df-convert:hover {\n",
              "      background-color: #E2EBFA;\n",
              "      box-shadow: 0px 1px 2px rgba(60, 64, 67, 0.3), 0px 1px 3px 1px rgba(60, 64, 67, 0.15);\n",
              "      fill: #174EA6;\n",
              "    }\n",
              "\n",
              "    [theme=dark] .colab-df-convert {\n",
              "      background-color: #3B4455;\n",
              "      fill: #D2E3FC;\n",
              "    }\n",
              "\n",
              "    [theme=dark] .colab-df-convert:hover {\n",
              "      background-color: #434B5C;\n",
              "      box-shadow: 0px 1px 3px 1px rgba(0, 0, 0, 0.15);\n",
              "      filter: drop-shadow(0px 1px 2px rgba(0, 0, 0, 0.3));\n",
              "      fill: #FFFFFF;\n",
              "    }\n",
              "  </style>\n",
              "\n",
              "      <script>\n",
              "        const buttonEl =\n",
              "          document.querySelector('#df-7ced7d36-9352-462e-8ca7-ca062f4916cb button.colab-df-convert');\n",
              "        buttonEl.style.display =\n",
              "          google.colab.kernel.accessAllowed ? 'block' : 'none';\n",
              "\n",
              "        async function convertToInteractive(key) {\n",
              "          const element = document.querySelector('#df-7ced7d36-9352-462e-8ca7-ca062f4916cb');\n",
              "          const dataTable =\n",
              "            await google.colab.kernel.invokeFunction('convertToInteractive',\n",
              "                                                     [key], {});\n",
              "          if (!dataTable) return;\n",
              "\n",
              "          const docLinkHtml = 'Like what you see? Visit the ' +\n",
              "            '<a target=\"_blank\" href=https://colab.research.google.com/notebooks/data_table.ipynb>data table notebook</a>'\n",
              "            + ' to learn more about interactive tables.';\n",
              "          element.innerHTML = '';\n",
              "          dataTable['output_type'] = 'display_data';\n",
              "          await google.colab.output.renderOutput(dataTable, element);\n",
              "          const docLink = document.createElement('div');\n",
              "          docLink.innerHTML = docLinkHtml;\n",
              "          element.appendChild(docLink);\n",
              "        }\n",
              "      </script>\n",
              "    </div>\n",
              "  </div>\n",
              "  "
            ],
            "text/plain": [
              "         Date        Open        High         Low       Close   Adj Close  \\\n",
              "0  2006-01-09  231.698029  235.170441  228.980698  231.941452  231.941452   \n",
              "1  2006-01-10  230.709457  233.605621  229.527145  233.362198  233.362198   \n",
              "2  2006-01-11  234.112320  236.019913  233.074081  234.291168  234.291168   \n",
              "3  2006-01-12  235.329407  235.960312  229.258896  230.317017  230.317017   \n",
              "4  2006-01-13  230.654816  231.936478  229.313538  231.618546  231.618546   \n",
              "\n",
              "     Volume  \n",
              "0  25750100  \n",
              "1  18312400  \n",
              "2  18131900  \n",
              "3  20382200  \n",
              "4  15412700  "
            ]
          },
          "metadata": {},
          "execution_count": 9
        }
      ]
    },
    {
      "cell_type": "code",
      "metadata": {
        "id": "QErv7uS6c-e4",
        "outputId": "5c00438e-4535-4670-e0cb-a4a1ba318d26",
        "colab": {
          "base_uri": "https://localhost:8080/",
          "height": 238
        }
      },
      "source": [
        "goog=pd.DataFrame()\n",
        "goog1.index=goog1['Date']\n",
        "goog['Adj Close']=goog1['Adj Close']\n",
        "goog.index=goog1.index\n",
        "goog.head()"
      ],
      "execution_count": null,
      "outputs": [
        {
          "output_type": "execute_result",
          "data": {
            "text/html": [
              "\n",
              "  <div id=\"df-03cf2d0c-7806-4d6d-a68a-6cd14a1f3281\">\n",
              "    <div class=\"colab-df-container\">\n",
              "      <div>\n",
              "<style scoped>\n",
              "    .dataframe tbody tr th:only-of-type {\n",
              "        vertical-align: middle;\n",
              "    }\n",
              "\n",
              "    .dataframe tbody tr th {\n",
              "        vertical-align: top;\n",
              "    }\n",
              "\n",
              "    .dataframe thead th {\n",
              "        text-align: right;\n",
              "    }\n",
              "</style>\n",
              "<table border=\"1\" class=\"dataframe\">\n",
              "  <thead>\n",
              "    <tr style=\"text-align: right;\">\n",
              "      <th></th>\n",
              "      <th>Adj Close</th>\n",
              "    </tr>\n",
              "    <tr>\n",
              "      <th>Date</th>\n",
              "      <th></th>\n",
              "    </tr>\n",
              "  </thead>\n",
              "  <tbody>\n",
              "    <tr>\n",
              "      <th>2006-01-09</th>\n",
              "      <td>231.941452</td>\n",
              "    </tr>\n",
              "    <tr>\n",
              "      <th>2006-01-10</th>\n",
              "      <td>233.362198</td>\n",
              "    </tr>\n",
              "    <tr>\n",
              "      <th>2006-01-11</th>\n",
              "      <td>234.291168</td>\n",
              "    </tr>\n",
              "    <tr>\n",
              "      <th>2006-01-12</th>\n",
              "      <td>230.317017</td>\n",
              "    </tr>\n",
              "    <tr>\n",
              "      <th>2006-01-13</th>\n",
              "      <td>231.618546</td>\n",
              "    </tr>\n",
              "  </tbody>\n",
              "</table>\n",
              "</div>\n",
              "      <button class=\"colab-df-convert\" onclick=\"convertToInteractive('df-03cf2d0c-7806-4d6d-a68a-6cd14a1f3281')\"\n",
              "              title=\"Convert this dataframe to an interactive table.\"\n",
              "              style=\"display:none;\">\n",
              "        \n",
              "  <svg xmlns=\"http://www.w3.org/2000/svg\" height=\"24px\"viewBox=\"0 0 24 24\"\n",
              "       width=\"24px\">\n",
              "    <path d=\"M0 0h24v24H0V0z\" fill=\"none\"/>\n",
              "    <path d=\"M18.56 5.44l.94 2.06.94-2.06 2.06-.94-2.06-.94-.94-2.06-.94 2.06-2.06.94zm-11 1L8.5 8.5l.94-2.06 2.06-.94-2.06-.94L8.5 2.5l-.94 2.06-2.06.94zm10 10l.94 2.06.94-2.06 2.06-.94-2.06-.94-.94-2.06-.94 2.06-2.06.94z\"/><path d=\"M17.41 7.96l-1.37-1.37c-.4-.4-.92-.59-1.43-.59-.52 0-1.04.2-1.43.59L10.3 9.45l-7.72 7.72c-.78.78-.78 2.05 0 2.83L4 21.41c.39.39.9.59 1.41.59.51 0 1.02-.2 1.41-.59l7.78-7.78 2.81-2.81c.8-.78.8-2.07 0-2.86zM5.41 20L4 18.59l7.72-7.72 1.47 1.35L5.41 20z\"/>\n",
              "  </svg>\n",
              "      </button>\n",
              "      \n",
              "  <style>\n",
              "    .colab-df-container {\n",
              "      display:flex;\n",
              "      flex-wrap:wrap;\n",
              "      gap: 12px;\n",
              "    }\n",
              "\n",
              "    .colab-df-convert {\n",
              "      background-color: #E8F0FE;\n",
              "      border: none;\n",
              "      border-radius: 50%;\n",
              "      cursor: pointer;\n",
              "      display: none;\n",
              "      fill: #1967D2;\n",
              "      height: 32px;\n",
              "      padding: 0 0 0 0;\n",
              "      width: 32px;\n",
              "    }\n",
              "\n",
              "    .colab-df-convert:hover {\n",
              "      background-color: #E2EBFA;\n",
              "      box-shadow: 0px 1px 2px rgba(60, 64, 67, 0.3), 0px 1px 3px 1px rgba(60, 64, 67, 0.15);\n",
              "      fill: #174EA6;\n",
              "    }\n",
              "\n",
              "    [theme=dark] .colab-df-convert {\n",
              "      background-color: #3B4455;\n",
              "      fill: #D2E3FC;\n",
              "    }\n",
              "\n",
              "    [theme=dark] .colab-df-convert:hover {\n",
              "      background-color: #434B5C;\n",
              "      box-shadow: 0px 1px 3px 1px rgba(0, 0, 0, 0.15);\n",
              "      filter: drop-shadow(0px 1px 2px rgba(0, 0, 0, 0.3));\n",
              "      fill: #FFFFFF;\n",
              "    }\n",
              "  </style>\n",
              "\n",
              "      <script>\n",
              "        const buttonEl =\n",
              "          document.querySelector('#df-03cf2d0c-7806-4d6d-a68a-6cd14a1f3281 button.colab-df-convert');\n",
              "        buttonEl.style.display =\n",
              "          google.colab.kernel.accessAllowed ? 'block' : 'none';\n",
              "\n",
              "        async function convertToInteractive(key) {\n",
              "          const element = document.querySelector('#df-03cf2d0c-7806-4d6d-a68a-6cd14a1f3281');\n",
              "          const dataTable =\n",
              "            await google.colab.kernel.invokeFunction('convertToInteractive',\n",
              "                                                     [key], {});\n",
              "          if (!dataTable) return;\n",
              "\n",
              "          const docLinkHtml = 'Like what you see? Visit the ' +\n",
              "            '<a target=\"_blank\" href=https://colab.research.google.com/notebooks/data_table.ipynb>data table notebook</a>'\n",
              "            + ' to learn more about interactive tables.';\n",
              "          element.innerHTML = '';\n",
              "          dataTable['output_type'] = 'display_data';\n",
              "          await google.colab.output.renderOutput(dataTable, element);\n",
              "          const docLink = document.createElement('div');\n",
              "          docLink.innerHTML = docLinkHtml;\n",
              "          element.appendChild(docLink);\n",
              "        }\n",
              "      </script>\n",
              "    </div>\n",
              "  </div>\n",
              "  "
            ],
            "text/plain": [
              "             Adj Close\n",
              "Date                  \n",
              "2006-01-09  231.941452\n",
              "2006-01-10  233.362198\n",
              "2006-01-11  234.291168\n",
              "2006-01-12  230.317017\n",
              "2006-01-13  231.618546"
            ]
          },
          "metadata": {},
          "execution_count": 12
        }
      ]
    },
    {
      "cell_type": "code",
      "metadata": {
        "id": "Cv_no0-pc-e-"
      },
      "source": [
        "goog['Log_Ret'] = np.log(goog['Adj Close'] / goog['Adj Close'].shift(1))\n",
        "goog['Volatility'] = goog['Log_Ret'].rolling(20).std(window=252)* np.sqrt(252)"
      ],
      "execution_count": null,
      "outputs": []
    },
    {
      "cell_type": "code",
      "source": [
        ""
      ],
      "metadata": {
        "id": "fngpWBM0v_wF"
      },
      "execution_count": null,
      "outputs": []
    },
    {
      "cell_type": "code",
      "metadata": {
        "scrolled": true,
        "id": "DGAouFmdc-fE",
        "outputId": "cbd0baaf-39c8-43c9-d07e-5016c4623ea5",
        "colab": {
          "base_uri": "https://localhost:8080/",
          "height": 431
        }
      },
      "source": [
        "# gives annual std's - 252 trading days in year approximately\n",
        "goog[['Adj Close', 'Volatility','Log_Ret']].plot(subplots=True, color=['blue','green','red'],\n",
        "                                   figsize=(8, 6), grid=True,title=\"Google closing prices and yearly volatility\");"
      ],
      "execution_count": null,
      "outputs": [
        {
          "output_type": "display_data",
          "data": {
            "image/png": "[encoded data removed]",
            "text/plain": [
              "<Figure size 576x432 with 3 Axes>"
            ]
          },
          "metadata": {
            "needs_background": "light"
          }
        }
      ]
    },
    {
      "cell_type": "markdown",
      "metadata": {
        "id": "rKwQNT3rc-fT"
      },
      "source": [
        "### Implied Volatility"
      ]
    },
    {
      "cell_type": "markdown",
      "metadata": {
        "id": "IEalTFYPc-fU"
      },
      "source": [
        "As remarked previously, the BS formula for option pricing contains only one parameter, the volatility $\\sigma$, which \n",
        "does not come from the market or is chosen by the buyer/seller. It can be shown that the relation between option price \n",
        "and volatility is 1-1 onto (bijective). \n",
        "For each sigma, the option pricing equation gives a value of the option price, and for each price there is a unique sigma giving this price via the formula.\n",
        "\n",
        "Given a price we write a program to find the corresponding sigma, which involves inverting the pricing equation, which is nonlinear and therefore requires Newton's method or some other approximate method of solving the problem. This corresponding value of sigma is often quoted by markets instead of the price and is called the **Implied Volatility**."
      ]
    },
    {
      "cell_type": "markdown",
      "source": [
        "## Newton's Method to solve f($\\sigma$) = C\n",
        "\n",
        "$\\sigma_{n+1}$ = $\\sigma_n$ - (f($\\sigma$_n)-C)/((df/d$\\sigma$)($\\sigma_n$))"
      ],
      "metadata": {
        "id": "3h1I1mfv9aYW"
      }
    },
    {
      "cell_type": "code",
      "source": [
        "def bsm_vega(S0,K, T, r,sigma):\n",
        "  from math import log,sqrt\n",
        "  from scipy import stats\n",
        "  S0=float(S0)\n",
        "  d1=log(S0/K) +(r+1/2 * sigma**2)*T/(sigma*sqrt(T))\n",
        "  vega=S0*stats.norm.cdf(d1,0.0,1.0)*sqrt(T)\n",
        "  return vega"
      ],
      "metadata": {
        "id": "6okw5m0s9YXR"
      },
      "execution_count": null,
      "outputs": []
    },
    {
      "cell_type": "code",
      "source": [
        "def bsm_call_imp_vol(S0,K, T,C0, sigma_est,nit=100):\n",
        "  for i in range(nit):\n",
        "    bsm_c=bsm_call_val(S0,K, T, r, sigma_est)\n",
        "    bsm_v=bsm_vega(S0,K, T, r, sigma)\n",
        "    sigma_est -= (bsm_c-C0)/bsm_v\n",
        "  return sigma_est"
      ],
      "metadata": {
        "id": "7lKJlDVWzfj0"
      },
      "execution_count": null,
      "outputs": []
    },
    {
      "cell_type": "code",
      "source": [
        "bsm_call_imp_vol(100,105,1,10,0.3)"
      ],
      "metadata": {
        "id": "oa919Zp19Ydt"
      },
      "execution_count": null,
      "outputs": []
    }
  ]
}